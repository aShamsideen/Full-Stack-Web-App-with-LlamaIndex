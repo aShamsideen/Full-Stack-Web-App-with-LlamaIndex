{
 "cells": [
  {
   "cell_type": "markdown",
   "id": "8d75217b-ddec-4e14-ba14-aa56eacb3f99",
   "metadata": {},
   "source": [
    "#### Import required dependencies and load the API key"
   ]
  },
  {
   "cell_type": "code",
   "execution_count": null,
   "id": "4b085c0e-c417-4276-bb27-b89ccef4e379",
   "metadata": {},
   "outputs": [],
   "source": [
    "import * as mod from \"https://deno.land/std@0.213.0/dotenv/mod.ts\";\n",
    "import { \n",
    "    Document, \n",
    "    VectorStoreIndex, \n",
    "    SimpleDirectoryReader,\n",
    "    RouterQueryEngine,\n",
    "    OpenAIAgent,\n",
    "    QueryEngineTool,\n",
    "    FunctionTool,\n",
    "} from \"npm:llamaindex@0.1.18\"\n",
    "const keys = await mod.load({export:true}) // read API key from .env"
   ]
  },
  {
   "cell_type": "markdown",
   "id": "a8e94b88-fabb-4161-815a-b7b652acbbd8",
   "metadata": {},
   "source": [
    "Let's create 2 different data sources that answer different types of questions:\n",
    "- The first is the same example as in lesson 1, an essay by Dan Abramov about his career.\n",
    "- The second is the wikipedia page content about React.\n",
    "\n",
    "**Note**: To access the data used in this lesson, go to `File` and click on `Open` "
   ]
  },
  {
   "cell_type": "code",
   "execution_count": null,
   "id": "eb21ff13-cd9a-4b3a-8bcf-bbf55beabe77",
   "metadata": {},
   "outputs": [],
   "source": [
    "const documents1 = await new SimpleDirectoryReader().loadData({directoryPath: \"./data\"})\n",
    "const index1 = await VectorStoreIndex.fromDocuments(documents1)\n",
    "const queryEngine1 = index1.asQueryEngine()"
   ]
  },
  {
   "cell_type": "code",
   "execution_count": null,
   "id": "4239f70e-7feb-45b1-80d3-aefc98456dfc",
   "metadata": {},
   "outputs": [],
   "source": [
    "let response1 = await queryEngine1.query({query: \"What did the author do in college?\"})\n",
    "console.log(response1.toString())"
   ]
  },
  {
   "cell_type": "code",
   "execution_count": null,
   "id": "7fdaac26-a547-462b-ad3c-8ed1434e5a08",
   "metadata": {},
   "outputs": [],
   "source": [
    "const documents2 = await new SimpleDirectoryReader().loadData({directoryPath: \"./data2\"})\n",
    "const index2 = await VectorStoreIndex.fromDocuments(documents2)\n",
    "const queryEngine2 = index2.asQueryEngine()"
   ]
  },
  {
   "cell_type": "code",
   "execution_count": null,
   "id": "7405728f-65bb-4702-9982-e05a919f2289",
   "metadata": {},
   "outputs": [],
   "source": [
    "let response2 = await queryEngine2.query({query:\"What is React?\"})\n",
    "console.log(response2.toString())"
   ]
  },
  {
   "cell_type": "markdown",
   "id": "9fab4c3d-3018-497c-9841-7b3e70025ee3",
   "metadata": {},
   "source": [
    "Create a Router Query Engine"
   ]
  },
  {
   "cell_type": "markdown",
   "id": "d83509bd-ef79-48f7-b939-ab6a630f009b",
   "metadata": {},
   "source": [
    "Ask it a Question"
   ]
  },
  {
   "cell_type": "code",
   "execution_count": null,
   "id": "a0cd19cf-42aa-4d32-9f3d-6cf2b39ecfc6",
   "metadata": {},
   "outputs": [],
   "source": [
    "let response3 = await queryEngine.query({query: \"What is React?\"})\n",
    "console.log(response3.toString())"
   ]
  },
  {
   "cell_type": "code",
   "execution_count": null,
   "id": "b843d497-675a-46a6-9f00-bf1e9fcc8951",
   "metadata": {},
   "outputs": [],
   "source": [
    "let response4 = await queryEngine.query({query: \"What did Dan Abramov do in college?\"})\n",
    "console.log(response4.toString())"
   ]
  },
  {
   "cell_type": "markdown",
   "id": "a2109327-7d5a-402f-a69e-52daeb723d42",
   "metadata": {},
   "source": [
    "Define a Simple Function"
   ]
  },
  {
   "cell_type": "code",
   "execution_count": null,
   "id": "4408875b-d5e0-4d20-a1b9-3ef864689122",
   "metadata": {},
   "outputs": [],
   "source": [
    "function sumNumbers({a,b}) {\n",
    "  return a + b;\n",
    "}"
   ]
  },
  {
   "cell_type": "markdown",
   "id": "af4c77e4-f968-415b-8914-257480ffee0a",
   "metadata": {},
   "source": [
    "Explain the Function in JSON Structure"
   ]
  },
  {
   "cell_type": "code",
   "execution_count": null,
   "id": "a995ca0e-936e-4f4b-9d3b-00230c2187de",
   "metadata": {},
   "outputs": [],
   "source": [
    "const sumJSON = {\n",
    "  type: \"object\",\n",
    "  properties: {\n",
    "    a: {\n",
    "      type: \"number\",\n",
    "      description: \"The first number\",\n",
    "    },\n",
    "    b: {\n",
    "      type: \"number\",\n",
    "      description: \"The second number\",\n",
    "    },\n",
    "  },\n",
    "  required: [\"a\", \"b\"],\n",
    "};"
   ]
  },
  {
   "cell_type": "markdown",
   "id": "7b09ca79-b77f-43c5-8118-162035a1d2fb",
   "metadata": {},
   "source": [
    "Make the new function into a Tool"
   ]
  },
  {
   "cell_type": "code",
   "execution_count": null,
   "id": "0d4b3329-091a-4871-b53d-430aa231ffe0",
   "metadata": {},
   "outputs": [],
   "source": [
    "const sumFunctionTool = new FunctionTool(sumNumbers, {\n",
    "  name: \"sumNumbers\",\n",
    "  description: \"Use this function to sum two numbers\",\n",
    "  parameters: sumJSON,\n",
    "});"
   ]
  },
  {
   "cell_type": "markdown",
   "id": "81b4fe0d-0200-4598-8d61-4489e6796acd",
   "metadata": {},
   "source": [
    "Make the Router Query Engine into a Tool"
   ]
  },
  {
   "cell_type": "code",
   "execution_count": null,
   "id": "edbeb5f1-eefd-41b6-a666-6e755b0dca7e",
   "metadata": {},
   "outputs": [],
   "source": [
    "const queryEngineTool = new QueryEngineTool({\n",
    "    queryEngine: queryEngine,\n",
    "    metadata: {\n",
    "        name: \"react_and_dan_abramov_engine\",\n",
    "        description: \"A tool that can answer questions about Dan Abramov and React\",\n",
    "    },\n",
    "});"
   ]
  },
  {
   "cell_type": "markdown",
   "id": "1beb841c-1c3a-43e6-a903-3fe7dc95e02a",
   "metadata": {},
   "source": [
    "Use the two tools"
   ]
  },
  {
   "cell_type": "code",
   "execution_count": null,
   "id": "e63f8433-f852-49b9-8fbc-abbfd9a16831",
   "metadata": {},
   "outputs": [],
   "source": [
    "const agent = new OpenAIAgent({\n",
    "    tools: [queryEngineTool, sumFunctionTool],\n",
    "    verbose: true\n",
    "})"
   ]
  },
  {
   "cell_type": "markdown",
   "id": "31b6e508-2352-42ee-bb60-f4b4e30ab5a9",
   "metadata": {},
   "source": [
    "Ask it a question"
   ]
  },
  {
   "cell_type": "code",
   "execution_count": null,
   "id": "3d013bd5-8029-41e5-95f8-d1e855231f30",
   "metadata": {},
   "outputs": [],
   "source": [
    "let response5 = await agent.chat({message:\"What is React? Use a tool.\"})\n",
    "console.log(response5.toString())"
   ]
  },
  {
   "cell_type": "code",
   "execution_count": null,
   "id": "a1521b4a-4632-4326-9796-e5c41e3733af",
   "metadata": {},
   "outputs": [],
   "source": [
    "let response6 = await agent.chat({message:\"What is 501 + 5?\"})\n",
    "console.log(response6.toString())"
   ]
  }
 ],
 "metadata": {
  "kernelspec": {
   "display_name": "Python 3 (ipykernel)",
   "language": "python",
   "name": "python3"
  },
  "language_info": {
   "codemirror_mode": {
    "name": "ipython",
    "version": 3
   },
   "file_extension": ".py",
   "mimetype": "text/x-python",
   "name": "python",
   "nbconvert_exporter": "python",
   "pygments_lexer": "ipython3",
   "version": "3.11.0"
  }
 },
 "nbformat": 4,
 "nbformat_minor": 5
}
