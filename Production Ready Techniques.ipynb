{
 "cells": [
  {
   "cell_type": "markdown",
   "id": "bdab26ad-711e-415b-b0ee-7368ed8a05f5",
   "metadata": {},
   "source": [
    "Integrating Some Production Techniques into a Web App"
   ]
  },
  {
   "cell_type": "code",
   "execution_count": null,
   "id": "35a4c184-9f7c-4b38-9947-b4b9185db37c",
   "metadata": {},
   "outputs": [],
   "source": [
    "import * as mod from \"https://deno.land/std@0.213.0/dotenv/mod.ts\";\n",
    "import { \n",
    "    Document, \n",
    "    VectorStoreIndex, \n",
    "    SimpleDirectoryReader,\n",
    "    RouterQueryEngine,\n",
    "    storageContextFromDefaults,\n",
    "    ContextChatEngine\n",
    "} from \"npm:llamaindex@0.1.12\"\n",
    "const keys = await mod.load({export:true}) // read API key from .env"
   ]
  },
  {
   "cell_type": "markdown",
   "id": "478652e7-bd28-429c-9029-6fbfc0f9d9e6",
   "metadata": {},
   "source": [
    "#### Persisting with Data"
   ]
  },
  {
   "cell_type": "markdown",
   "id": "cbd487e4-187c-4105-9c38-d3b5ee7457b8",
   "metadata": {},
   "source": [
    "Set Up a Storage Context"
   ]
  },
  {
   "cell_type": "code",
   "execution_count": null,
   "id": "6f69c810-5eb4-43d8-a60e-acc353a71472",
   "metadata": {},
   "outputs": [],
   "source": [
    "const storageContext = await storageContextFromDefaults({\n",
    "  persistDir: \"./storage\",\n",
    "});"
   ]
  },
  {
   "cell_type": "markdown",
   "id": "43985937-ffca-4e72-aab2-ecb528a1882d",
   "metadata": {},
   "source": [
    "Load the Data and Create an Index"
   ]
  },
  {
   "cell_type": "code",
   "execution_count": null,
   "id": "e16e60e2-65f1-4191-9255-92545d3f5d98",
   "metadata": {},
   "outputs": [],
   "source": [
    "const documents = await new SimpleDirectoryReader().loadData({\n",
    "  directoryPath: \"./data\", // we have the React wikipedia page in here\n",
    "});\n",
    "let index = await VectorStoreIndex.fromDocuments(documents, {\n",
    "  storageContext\n",
    "});"
   ]
  },
  {
   "cell_type": "markdown",
   "id": "24778be2-3803-4829-8665-3348f4ed3f44",
   "metadata": {},
   "source": [
    "Ask a Question"
   ]
  },
  {
   "cell_type": "code",
   "execution_count": null,
   "id": "51830dbc-b4cf-4c8d-8add-5b73a26bd144",
   "metadata": {},
   "outputs": [],
   "source": [
    "let engine = await index.asQueryEngine()\n",
    "let response = await engine.query({query:\"What is JSX?\"})\n",
    "console.log(response.toString())"
   ]
  },
  {
   "cell_type": "markdown",
   "id": "2d6869cf-d464-44f7-a8fb-7035cedf2462",
   "metadata": {},
   "source": [
    "Get an Index without Parsing the Document"
   ]
  },
  {
   "cell_type": "code",
   "execution_count": null,
   "id": "2c36cf8e-53c7-481d-afbc-d6d20b1e3e5f",
   "metadata": {},
   "outputs": [],
   "source": [
    "let storageContext2 = await storageContextFromDefaults({\n",
    "    persistDir: \"./storage\",\n",
    "});"
   ]
  },
  {
   "cell_type": "markdown",
   "id": "0f48a0ce-2c55-499b-9afb-1e0fdd06b3d3",
   "metadata": {},
   "source": [
    "Initialize the Index"
   ]
  },
  {
   "cell_type": "code",
   "execution_count": null,
   "id": "a97249ca-94e1-4de3-adab-3d01556721cd",
   "metadata": {},
   "outputs": [],
   "source": [
    "let index2 = await VectorStoreIndex.init({\n",
    "    storageContext: storageContext2\n",
    "});"
   ]
  },
  {
   "cell_type": "markdown",
   "id": "e3f16c9a-1d4f-4bb3-ab60-0de5c6f46377",
   "metadata": {},
   "source": [
    "Query It"
   ]
  },
  {
   "cell_type": "code",
   "execution_count": null,
   "id": "9abf08f3-08cb-4d48-aaf0-b7f86f2c2af3",
   "metadata": {},
   "outputs": [],
   "source": [
    "let engine2 = await index2.asQueryEngine()\n",
    "let response2 = await engine2.query({query:\"What is JSX?\"})\n",
    "console.log(response2.toString())"
   ]
  },
  {
   "cell_type": "markdown",
   "id": "098f448c-428f-4ac2-bd1f-1dfbbb981047",
   "metadata": {},
   "source": [
    "#### Chatting with Data"
   ]
  },
  {
   "cell_type": "markdown",
   "id": "e2f4717f-7c0d-40f3-8bc6-695f52372bf2",
   "metadata": {},
   "source": [
    "Create a Retriever and a New Chat Engine"
   ]
  },
  {
   "cell_type": "code",
   "execution_count": null,
   "id": "9bec0c22-ffbf-451c-b7cc-367295692b0c",
   "metadata": {},
   "outputs": [],
   "source": [
    "const retriever = index2.asRetriever();\n",
    "retriever.similarityTopK = 3;\n",
    "\n",
    "let chatEngine = new ContextChatEngine({\n",
    "    retriever,\n",
    "});\n"
   ]
  },
  {
   "cell_type": "markdown",
   "id": "7d384dc8-7cf5-4593-9e7b-92ea2927a353",
   "metadata": {},
   "source": [
    "Try it"
   ]
  },
  {
   "cell_type": "code",
   "execution_count": null,
   "id": "1de27905-cc09-4d55-af40-dd4a2b77171b",
   "metadata": {},
   "outputs": [],
   "source": [
    "let messageHistory = [\n",
    "    {\n",
    "        role: \"user\",\n",
    "        content: \"What is JSX?\"\n",
    "    },\n",
    "    {\n",
    "        role: \"assistant\",\n",
    "        content: \"JSX stands for JavaScript Syntax Extension. It is an extension to the JavaScript language syntax that provides a way to structure component rendering using syntax familiar to many developers. JSX is similar in appearance to HTML and is typically used to write React components, although components can also be written in pure JavaScript. It was created by Facebook and is similar to another extension syntax created for PHP called XHP.\"\n",
    "    }\n",
    "]"
   ]
  },
  {
   "cell_type": "code",
   "execution_count": null,
   "id": "e46cd1ab-0c48-4097-a127-d2b97047feec",
   "metadata": {},
   "outputs": [],
   "source": [
    "let newMessage = \"What was that last thing you mentioned?\"\n"
   ]
  },
  {
   "cell_type": "code",
   "execution_count": null,
   "id": "27d8ce01-c796-4672-872c-f8a39e5f1edb",
   "metadata": {},
   "outputs": [],
   "source": [
    "const response3 = await chatEngine.chat({\n",
    "  message: newMessage,\n",
    "  chatHistory: messageHistory\n",
    "});\n",
    "console.log(response3.toString())"
   ]
  },
  {
   "cell_type": "markdown",
   "id": "71613cae-3be5-4e6e-ba72-1c16dbc7d236",
   "metadata": {},
   "source": [
    "#### Streaming"
   ]
  },
  {
   "cell_type": "markdown",
   "id": "8f28109b-ab05-4113-b018-5f1f52a6e719",
   "metadata": {},
   "source": [
    "Setting Streaming to True"
   ]
  },
  {
   "cell_type": "code",
   "execution_count": null,
   "id": "bd89c32e-7218-4ebf-a714-7f0993ced79c",
   "metadata": {},
   "outputs": [],
   "source": [
    "const response4 = await chatEngine.chat({\n",
    "  message: newMessage,\n",
    "  chatHistory: messageHistory,\n",
    "  stream: true,\n",
    "});\n",
    "console.log(response4)"
   ]
  },
  {
   "cell_type": "markdown",
   "id": "07a50c67-1907-4754-97f7-eeddc78db9ba",
   "metadata": {},
   "source": [
    "Check the Response"
   ]
  },
  {
   "cell_type": "code",
   "execution_count": null,
   "id": "694fcc8e-31c1-40b3-af5f-59988d102f5b",
   "metadata": {},
   "outputs": [],
   "source": [
    "for await (const data of response4) {\n",
    "    console.log(data.response); // Print the data\n",
    "}"
   ]
  },
  {
   "cell_type": "markdown",
   "id": "97412b5d-1b66-4237-a396-1ba0ac645a4b",
   "metadata": {},
   "source": [
    "#### Create Llama App"
   ]
  },
  {
   "cell_type": "markdown",
   "id": "e2bf0ad2-d348-42ce-9190-dbe5ceabd29b",
   "metadata": {},
   "source": [
    "#### Let's see all three techniques in a real web app!"
   ]
  },
  {
   "cell_type": "markdown",
   "id": "426a09bb-6204-4539-9a97-266920e0e7dd",
   "metadata": {},
   "source": [
    "We will use the utility functions in **utils.ts** file. \n",
    "\n",
    "**Note:** Go to `File` and click on `Open` to access the **utils.ts** file and all the code used in this lesson."
   ]
  },
  {
   "cell_type": "code",
   "execution_count": null,
   "id": "9a0ae06f-52da-4967-b8db-ea37acf3cf01",
   "metadata": {},
   "outputs": [],
   "source": [
    "import { runCreateLlamaApp } from './utils.ts'"
   ]
  },
  {
   "cell_type": "markdown",
   "id": "517857ac-1838-4e3b-8361-a2da2d6e2631",
   "metadata": {},
   "source": [
    "**Note**: The below code might take a minute to complete. Once done, please click on the link to access the web app!"
   ]
  },
  {
   "cell_type": "code",
   "execution_count": null,
   "id": "8637c854-34c0-44c9-91b6-2236ef55e021",
   "metadata": {},
   "outputs": [],
   "source": [
    "runCreateLlamaApp()"
   ]
  },
  {
   "cell_type": "code",
   "execution_count": null,
   "id": "b74814c9-591b-4faa-8406-54705f393542",
   "metadata": {},
   "outputs": [],
   "source": []
  }
 ],
 "metadata": {
  "kernelspec": {
   "display_name": "Python 3 (ipykernel)",
   "language": "python",
   "name": "python3"
  },
  "language_info": {
   "codemirror_mode": {
    "name": "ipython",
    "version": 3
   },
   "file_extension": ".py",
   "mimetype": "text/x-python",
   "name": "python",
   "nbconvert_exporter": "python",
   "pygments_lexer": "ipython3",
   "version": "3.11.0"
  }
 },
 "nbformat": 4,
 "nbformat_minor": 5
}
