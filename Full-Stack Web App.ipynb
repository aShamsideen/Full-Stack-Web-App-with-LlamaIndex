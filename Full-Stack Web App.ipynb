{
 "cells": [
  {
   "cell_type": "markdown",
   "id": "07f4a30f-58be-47a8-86dc-060734f9735f",
   "metadata": {},
   "source": [
    "You are going to create a very simple web server. \n",
    "\n",
    "This server will act as a web API, taking responses from the web and replying with data."
   ]
  },
  {
   "cell_type": "markdown",
   "id": "81108c88-b12d-4ff8-988d-e688c9310cf4",
   "metadata": {},
   "source": [
    "#### 1. Make a simple web server"
   ]
  },
  {
   "cell_type": "code",
   "execution_count": null,
   "id": "3a099152-6f09-47e9-8b8b-4e36aa9ef4d4",
   "metadata": {},
   "outputs": [],
   "source": [
    "const handler = (req) => {\n",
    "  // Create a new response object\n",
    "  const body = new TextEncoder().encode(\"Hello World!\");\n",
    "  return new Response(body, { status: 200 });\n",
    "};"
   ]
  },
  {
   "cell_type": "markdown",
   "id": "47bf964d-32fd-4e35-8201-15ee51df5470",
   "metadata": {},
   "source": [
    "#### Start the server on port 8001\n",
    "\n",
    "**Note**: If ports 8000 or 8001 are unavailable, try using port 8002 or 8003."
   ]
  },
  {
   "cell_type": "code",
   "execution_count": null,
   "id": "d74f62b3-ddbe-4178-a42b-2e717eda6504",
   "metadata": {},
   "outputs": [],
   "source": [
    "let server = Deno.serve({ port: 8001 }, handler);"
   ]
  },
  {
   "cell_type": "code",
   "execution_count": null,
   "id": "4506679b-5c13-4de8-b8d6-5daf8fb8ae30",
   "metadata": {},
   "outputs": [],
   "source": [
    "const response = await fetch(\"http://localhost:8001\")"
   ]
  },
  {
   "cell_type": "code",
   "execution_count": null,
   "id": "1661fad1-1760-4ea1-89bf-ca31a4bc1b7f",
   "metadata": {},
   "outputs": [],
   "source": [
    "await response.text()"
   ]
  },
  {
   "cell_type": "markdown",
   "id": "e7a92981-4998-44e2-81db-ab64990394aa",
   "metadata": {},
   "source": [
    "#### Shut down the server"
   ]
  },
  {
   "cell_type": "code",
   "execution_count": null,
   "id": "e7eef3b2-9472-4bb7-b614-7fa37ba36faa",
   "metadata": {},
   "outputs": [],
   "source": [
    "await server.shutdown()"
   ]
  },
  {
   "cell_type": "markdown",
   "id": "33abd9ca-7bdb-4804-97a5-50715f149e55",
   "metadata": {},
   "source": [
    "#### Set up the documents, index and query engine"
   ]
  },
  {
   "cell_type": "code",
   "execution_count": null,
   "id": "ee81cc70-3c9e-4f17-b0da-98ee265cd007",
   "metadata": {},
   "outputs": [],
   "source": [
    "import * as mod from \"https://deno.land/std@0.213.0/dotenv/mod.ts\";\n",
    "import { \n",
    "    Document, \n",
    "    VectorStoreIndex, \n",
    "    SimpleDirectoryReader \n",
    "} from \"npm:llamaindex@0.1.8\"\n",
    "const keys = await mod.load({export:true}) // read API key from .env\n",
    "\n",
    "const documents = await new SimpleDirectoryReader().loadData({directoryPath: \"./data\"})\n",
    "const index = await VectorStoreIndex.fromDocuments(documents)\n",
    "const queryEngine = index.asQueryEngine()"
   ]
  },
  {
   "cell_type": "markdown",
   "id": "c135724d-9534-46ac-a1a7-302c67dfac71",
   "metadata": {},
   "source": [
    "#### Create a new handler\n",
    "\n",
    "This new handler will accept a query as input and respond from the query engine."
   ]
  },
  {
   "cell_type": "code",
   "execution_count": null,
   "id": "aa68ac0d-e99c-416a-8deb-8f5bf99fc0a3",
   "metadata": {},
   "outputs": [],
   "source": [
    "const handler2 = async (req) => {\n",
    "    if(req.method == \"POST\") {\n",
    "        // we'll expect the incoming query to be a JSON object of the form {query: ...}\n",
    "        let data = await req.json()\n",
    "        let answer = await queryEngine.query({query: data.query})\n",
    "        // and our response will be a JSON object of the form {response: ...}\n",
    "        let responseObj = {\n",
    "            response: answer.toString()\n",
    "        }\n",
    "        return new Response(JSON.stringify(responseObj), { \n",
    "            status: 200\n",
    "        })\n",
    "    } else {\n",
    "        return new Response(\"Not found\", { status: 404 })\n",
    "    }\n",
    "}\n",
    "let server2 = Deno.serve( { port: 8002 }, handler2 )"
   ]
  },
  {
   "cell_type": "markdown",
   "id": "d6305743-5c92-4586-aae0-47e00fdefb1d",
   "metadata": {},
   "source": [
    "Send a request to the server"
   ]
  },
  {
   "cell_type": "code",
   "execution_count": null,
   "id": "56a2e962-7ac4-43ee-991c-46e408dcab59",
   "metadata": {},
   "outputs": [],
   "source": [
    "let data = { query: \"How does the author feel about college?\" }"
   ]
  },
  {
   "cell_type": "code",
   "execution_count": null,
   "id": "4267c0ec-e76e-444b-b6a1-8e3fcedcfa0e",
   "metadata": {},
   "outputs": [],
   "source": [
    "let responseObj = await response2.json()\n",
    "console.log(responseObj.response)"
   ]
  },
  {
   "cell_type": "code",
   "execution_count": null,
   "id": "bf13d76d-fde5-415b-98cc-11cf6100e4f7",
   "metadata": {},
   "outputs": [],
   "source": [
    "await server2.shutdown()"
   ]
  },
  {
   "cell_type": "markdown",
   "id": "95ae2513-e01b-4c3a-996e-3ad1e962d37c",
   "metadata": {},
   "source": [
    "#### 2. Make a web app!\n",
    "\n",
    "In this next section, we're going to use a development version of a web app, which is already setup for you.\n",
    "\n",
    "- Use the utility functions in **utils.ts** file. \n",
    "\n",
    "**Note:** Go to `File` and click on `Open` to access the **utils.ts** file and all the code used in this lesson."
   ]
  },
  {
   "cell_type": "code",
   "execution_count": null,
   "id": "90cf07fd-054a-4932-a4b1-35d23f8b659f",
   "metadata": {},
   "outputs": [],
   "source": [
    "import { runFrontend, runBackend, addToFrontend } from './utils.ts'"
   ]
  },
  {
   "cell_type": "markdown",
   "id": "44e5d698-127e-45d6-b6d6-e15ecdb29cd4",
   "metadata": {},
   "source": [
    "**Note**: When you run the below `runFrontend()` code in your notebook, a link will appear as the output. Click on this link to view the web app shown in the video."
   ]
  },
  {
   "cell_type": "code",
   "execution_count": null,
   "id": "770101d2-1fb5-481a-8850-569577d38d86",
   "metadata": {},
   "outputs": [],
   "source": [
    "runFrontend()"
   ]
  },
  {
   "cell_type": "markdown",
   "id": "2abf0d8d-2402-44e2-a500-69ef11235707",
   "metadata": {},
   "source": [
    "**Note**: Please note that the link generated above is specific to your notebook and will display all the upcoming frontend updates in this lesson. Please keep the page of this link open on your browser. Each time, you execute `await addToFrontend(\"\")`, you will see the new changes on that page. Note that you might need to refresh the page to see the changes."
   ]
  },
  {
   "cell_type": "markdown",
   "id": "cdaced8c-1cc6-4fb7-aa55-b76a7c03a755",
   "metadata": {},
   "source": [
    "Run the API Server"
   ]
  },
  {
   "cell_type": "markdown",
   "id": "8358656e-58d0-4aa1-8be4-95527c20dc8c",
   "metadata": {},
   "source": [
    "#### Create a React component that increments a counter"
   ]
  },
  {
   "cell_type": "code",
   "execution_count": null,
   "id": "0544dc9a-5771-49a7-81ff-79aba7e08ef4",
   "metadata": {},
   "outputs": [],
   "source": [
    "// import-me: 1\n",
    "import React, { useState } from 'https://esm.sh/react@17.0.2';\n",
    "\n",
    "const Counter: React.FC = () => {\n",
    "  return (\n",
    "    <div>\n",
    "      <h1>Counter: 0</h1>\n",
    "      <button>Increment</button>\n",
    "    </div>\n",
    "  );\n",
    "};\n",
    "\n",
    "export default Counter;"
   ]
  },
  {
   "cell_type": "markdown",
   "id": "86c97775-1a87-4e72-a83f-a2bac96b2316",
   "metadata": {},
   "source": [
    "#### Bring it to the app\n",
    "\n",
    "This command will inject our component into a pre-written app. Check the link from the `runFrontend()` code cell and refresh the page to see the results."
   ]
  },
  {
   "cell_type": "code",
   "execution_count": null,
   "id": "065b06c5-2f58-4bc2-ba11-b291abe5be2c",
   "metadata": {},
   "outputs": [],
   "source": [
    "await addToFrontend(\"1\")"
   ]
  },
  {
   "cell_type": "markdown",
   "id": "0a66976c-35ae-498b-a91e-663de3124c34",
   "metadata": {},
   "source": [
    "Add a Variable"
   ]
  },
  {
   "cell_type": "code",
   "execution_count": null,
   "id": "0d3c10a7-28cf-4073-9656-493a535fe80f",
   "metadata": {},
   "outputs": [],
   "source": [
    "// import-me: 2\n",
    "import React, { useState } from 'https://esm.sh/react@17.0.2';\n",
    "\n",
    "const Counter: React.FC = () => {\n",
    "  const count = 10\n",
    "\n",
    "  return (\n",
    "    <div>\n",
    "      <h1>Counter: {count}</h1>\n",
    "      <button>Increment</button>\n",
    "    </div>\n",
    "  );\n",
    "};\n",
    "\n",
    "export default Counter;"
   ]
  },
  {
   "cell_type": "markdown",
   "id": "6e72cb2e-c615-4f53-9c48-aa7fabaed9ed",
   "metadata": {},
   "source": [
    "Run the below to inject the new feature.\n",
    "\n",
    "**Note**: Refresh the page using the link provided by `runFrontend()` code cell to see the results."
   ]
  },
  {
   "cell_type": "code",
   "execution_count": null,
   "id": "97383f30-92c4-4f4f-a90f-a7d5025bb8c1",
   "metadata": {},
   "outputs": [],
   "source": [
    "await addToFrontend(\"2\")"
   ]
  },
  {
   "cell_type": "markdown",
   "id": "94783170-0ba6-41e7-9bc7-49eb28d8cd23",
   "metadata": {},
   "source": [
    "Add Interactivity"
   ]
  },
  {
   "cell_type": "code",
   "execution_count": null,
   "id": "f44a8f5d-665a-453d-8af8-609f8e0cc1d4",
   "metadata": {},
   "outputs": [],
   "source": [
    "// import-me: 3\n",
    "import React, { useState } from 'https://esm.sh/react@17.0.2';\n",
    "\n",
    "const Counter: React.FC = () => {\n",
    "  const [count, setCount] = useState<number>(0);\n",
    "\n",
    "  const increment = () => {\n",
    "    let newCount = count+1\n",
    "    setCount(newCount);\n",
    "  };\n",
    "\n",
    "  return (\n",
    "    <div>\n",
    "      <h1>Counter: {count}</h1>\n",
    "      <button onClick={increment}>Increment</button>\n",
    "    </div>\n",
    "  );\n",
    "};\n",
    "\n",
    "export default Counter;"
   ]
  },
  {
   "cell_type": "markdown",
   "id": "6c7f9771-e0be-46cf-92cb-6c14c6367c20",
   "metadata": {},
   "source": [
    "Inject this new version and see what happens!\n",
    "\n",
    "**Note**: Refresh the page using the link provided by `runFrontend()` code cell to view the results."
   ]
  },
  {
   "cell_type": "code",
   "execution_count": null,
   "id": "2e41d9d4-e54c-446a-b652-5854951d14ea",
   "metadata": {},
   "outputs": [],
   "source": [
    "await addToFrontend(\"3\")"
   ]
  },
  {
   "cell_type": "markdown",
   "id": "6907bcc4-3a28-491f-a768-a09cb5dd0014",
   "metadata": {},
   "source": [
    "#### Make an app that asks a question to the server"
   ]
  },
  {
   "cell_type": "code",
   "execution_count": null,
   "id": "e7a48ee7-201e-46fe-acf6-19d588ed4b31",
   "metadata": {},
   "outputs": [],
   "source": [
    "// import-me: 4\n",
    "import React, { useState } from 'https://esm.sh/react@17.0.2';\n",
    "\n",
    "const QuerySender: React.FC = () => {\n",
    "  return (\n",
    "    <div>\n",
    "      <h1>Ask a question</h1>\n",
    "      <form>\n",
    "        <input id=\"query\" type=\"text\"/>\n",
    "        <button type=\"submit\">Query</button>\n",
    "      </form>\n",
    "      <div id=\"answer\">Answer will go here</div>\n",
    "    </div>\n",
    "  );\n",
    "};\n",
    "\n",
    "export default QuerySender;"
   ]
  },
  {
   "cell_type": "code",
   "execution_count": null,
   "id": "0ede94be-8db3-4f7e-8cf5-4993f3721e72",
   "metadata": {},
   "outputs": [],
   "source": [
    "await addToFrontend(\"4\")"
   ]
  },
  {
   "cell_type": "markdown",
   "id": "cbddb72a-ca61-4a72-a2a8-aa6a08773100",
   "metadata": {},
   "source": [
    "Add Some Varaibles"
   ]
  },
  {
   "cell_type": "code",
   "execution_count": null,
   "id": "cc4fdfae-58e0-47cb-98a2-ddf88c4d36c9",
   "metadata": {},
   "outputs": [],
   "source": [
    "// import-me: 5\n",
    "import React, { useState } from 'https://esm.sh/react@17.0.2';\n",
    "\n",
    "const QuerySender: React.FC = () => {\n",
    "  const [query, setQuery] = useState<string>('');    \n",
    "\n",
    "  // Function to update the state with the input value\n",
    "  const handleChange = (e) => {\n",
    "    setQuery(e.target.value);\n",
    "  };\n",
    "    \n",
    "  return (\n",
    "    <div>\n",
    "      <h1>Ask a question</h1>\n",
    "      <form>\n",
    "        <input id=\"query\" type=\"text\" value={query} onChange={handleChange}/>\n",
    "        <button type=\"submit\">Query</button>\n",
    "      </form>\n",
    "      <div id=\"answer\">{query}</div>\n",
    "    </div>\n",
    "  );\n",
    "};\n",
    "\n",
    "export default QuerySender;"
   ]
  },
  {
   "cell_type": "code",
   "execution_count": null,
   "id": "b2bdd7a8-445d-4340-a0bd-db562f6daf0f",
   "metadata": {},
   "outputs": [],
   "source": [
    "await addToFrontend(\"5\")"
   ]
  },
  {
   "cell_type": "markdown",
   "id": "042aab05-57c3-4645-a3d0-2ed38b84f3cf",
   "metadata": {},
   "source": [
    "#### Add a new pair with \"answer  and setAnswer\""
   ]
  },
  {
   "cell_type": "code",
   "execution_count": null,
   "id": "7930e507-833c-44cc-849f-bde04ecf5ff5",
   "metadata": {},
   "outputs": [],
   "source": [
    "// import-me: 6\n",
    "import React, { useState } from 'https://esm.sh/react@17.0.2';\n",
    "\n",
    "const QuerySender: React.FC = () => {\n",
    "  const [query, setQuery] = useState<string>('');    \n",
    "  const [answer, setAnswer] = useState<string>('');\n",
    "\n",
    "  const handleSubmit = async (e) => {\n",
    "    e.preventDefault()\n",
    "    setAnswer(query + \" is the answer\");\n",
    "  }\n",
    "    \n",
    "  // Function to update the state with the input value\n",
    "  const handleChange = (e) => {\n",
    "    setQuery(e.target.value);\n",
    "  };\n",
    "    \n",
    "  return (\n",
    "    <div>\n",
    "      <h1>Ask a question</h1>\n",
    "      <form onSubmit={handleSubmit}>\n",
    "        <input id=\"query\" type=\"text\" value={query} onChange={handleChange}/>\n",
    "        <button type=\"submit\">Query</button>\n",
    "      </form>\n",
    "      <div id=\"answer\">{answer}</div>\n",
    "    </div>\n",
    "  );\n",
    "};\n",
    "\n",
    "export default QuerySender;"
   ]
  },
  {
   "cell_type": "code",
   "execution_count": null,
   "id": "d7bc7b43-5b49-4d07-8663-202e309e80c2",
   "metadata": {},
   "outputs": [],
   "source": [
    "await addToFrontend(\"6\")"
   ]
  },
  {
   "cell_type": "markdown",
   "id": "6bbeab3b-d036-4558-8283-ed6b940f8ac1",
   "metadata": {},
   "source": [
    "Call the Backend"
   ]
  },
  {
   "cell_type": "code",
   "execution_count": null,
   "id": "81491400-cb91-4ca8-8c3f-0303db2e17a9",
   "metadata": {},
   "outputs": [],
   "source": [
    "// import-me: 7\n",
    "import React, { useState } from 'https://esm.sh/react@17.0.2';\n",
    "\n",
    "const QuerySender: React.FC = () => {\n",
    "  const [query, setQuery] = useState<string>('');\n",
    "  const [answer, setAnswer] = useState<string>('');\n",
    "\n",
    "  const handleSubmit = async (e) => {\n",
    "    e.preventDefault()\n",
    "    setAnswer(\"Thinking...\")\n",
    "    const response = await fetch('http://localhost:8000', {\n",
    "      method: 'POST',\n",
    "      headers: {\n",
    "        'Content-Type': 'application/json',\n",
    "      },\n",
    "      body: JSON.stringify({ query }),\n",
    "    });\n",
    "    const data = await response.json();\n",
    "    console.log('Response from the server:', data);\n",
    "    setAnswer(data.response);\n",
    "  }\n",
    "\n",
    "  // Function to update the state with the input value\n",
    "  const handleChange = (e) => {\n",
    "    setQuery(e.target.value);\n",
    "  };  \n",
    "\n",
    "  return (\n",
    "    <div>\n",
    "      <h1>Ask a question</h1>\n",
    "      <form onSubmit={handleSubmit}>\n",
    "        <input id=\"query\" type=\"text\" value={query} onChange={handleChange} />\n",
    "        <button type=\"submit\">Query</button>\n",
    "      </form>\n",
    "      <div id=\"answer\">{answer}</div>\n",
    "    </div>\n",
    "  );\n",
    "};\n",
    "\n",
    "export default QuerySender;"
   ]
  },
  {
   "cell_type": "code",
   "execution_count": null,
   "id": "78cf71f6-6636-4e16-b385-c5103995ab4c",
   "metadata": {},
   "outputs": [],
   "source": [
    "await addToFrontend(\"7\")"
   ]
  },
  {
   "cell_type": "code",
   "execution_count": null,
   "id": "0b91f819-c10f-44ab-80ff-7accc3ddf10f",
   "metadata": {},
   "outputs": [],
   "source": []
  }
 ],
 "metadata": {
  "kernelspec": {
   "display_name": "Python 3 (ipykernel)",
   "language": "python",
   "name": "python3"
  },
  "language_info": {
   "codemirror_mode": {
    "name": "ipython",
    "version": 3
   },
   "file_extension": ".py",
   "mimetype": "text/x-python",
   "name": "python",
   "nbconvert_exporter": "python",
   "pygments_lexer": "ipython3",
   "version": "3.11.0"
  }
 },
 "nbformat": 4,
 "nbformat_minor": 5
}
